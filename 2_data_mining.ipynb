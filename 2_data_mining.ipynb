{
 "cells": [
  {
   "cell_type": "markdown",
   "metadata": {},
   "source": [
    "# 2. Data Mining\n",
    "Gether and scrape the data necessary for the project.\n",
    "\n",
    "**`Note: This notebook is only exemplary and in view of the small dataset size of the datasets (known.csv and unknown.csv) it is not necessary to execute it! We can continue with notebook '3_data_cleaning'`.**"
   ]
  },
  {
   "cell_type": "markdown",
   "metadata": {},
   "source": [
    "In general data mining is the process by which organizations detect patterns in data for insights relevant to their business needs. It's essential for both business intelligence and data science. There are many data mining techniques organizations can use to turn raw data into actionable insights. These involve everything from cutting-edge artificial Intelligence to the basics of data preparation, which are both key for maximizing the value of data investments. \n",
    "\n",
    " 1. Data cleaning and preparation\n",
    " 2. Tracking patterns\n",
    " 3. Classification\n",
    " 4. Association\n",
    " 5. Outlier detection\n",
    " 6. Clustering\n",
    " 7. Regression\n",
    " 8. Prediction\n",
    " 9. Sequential patterns\n",
    "10. Decision trees\n",
    "11. Statistical techniques\n",
    "12. Visualization\n",
    "13. Neural networks\n",
    "14. Data warehousing\n",
    "15. Long-term memory processing\n",
    "16. Machine learning and artificial intelligence\n"
   ]
  },
  {
   "cell_type": "markdown",
   "metadata": {},
   "source": [
    "In this case, we have received two unknown datasets from an unknown source or sources.\n",
    "\n",
    "Dataset: \n",
    "1. Dataset known.csv: a dataset containing 15000 data samples, longitude, latitude, 6 input variables f1-6 and 1 target variable t1.\n",
    "2. Dataset unknown.csv: a dataset containing 767 data samples in similar format, where the target values are unknown."
   ]
  },
  {
   "cell_type": "markdown",
   "metadata": {},
   "source": [
    "## Import Libraries"
   ]
  },
  {
   "cell_type": "code",
   "execution_count": 1,
   "metadata": {},
   "outputs": [],
   "source": [
    "# Basic import(s)\n",
    "import pandas as pd\n",
    "\n",
    "# Helper script(s)\n",
    "from scripts.helper import reduce_mem_usage\n",
    "\n",
    "# Hide all warnings in ipython\n",
    "import warnings\n",
    "warnings.filterwarnings('ignore')"
   ]
  },
  {
   "cell_type": "markdown",
   "metadata": {},
   "source": [
    "## Import Datasets"
   ]
  },
  {
   "cell_type": "code",
   "execution_count": 2,
   "metadata": {},
   "outputs": [],
   "source": [
    "# Loading of the known.csv dataset via pandas.\n",
    "known_dataset = pd.read_csv('data/known.csv', sep=';', na_filter= False) # Seperate semi colin in csv file with pandas separator."
   ]
  },
  {
   "cell_type": "code",
   "execution_count": 3,
   "metadata": {},
   "outputs": [],
   "source": [
    "# Loading of the unknown.csv dataset via pandas.\n",
    "unknown_dataset = pd.read_csv('data/unknown.csv', sep=';', na_filter= False) # Seperate semi colin in csv file with pandas separator."
   ]
  },
  {
   "cell_type": "code",
   "execution_count": 4,
   "metadata": {},
   "outputs": [
    {
     "data": {
      "text/html": [
       "<div>\n",
       "<style scoped>\n",
       "    .dataframe tbody tr th:only-of-type {\n",
       "        vertical-align: middle;\n",
       "    }\n",
       "\n",
       "    .dataframe tbody tr th {\n",
       "        vertical-align: top;\n",
       "    }\n",
       "\n",
       "    .dataframe thead th {\n",
       "        text-align: right;\n",
       "    }\n",
       "</style>\n",
       "<table border=\"1\" class=\"dataframe\">\n",
       "  <thead>\n",
       "    <tr style=\"text-align: right;\">\n",
       "      <th></th>\n",
       "      <th>index,</th>\n",
       "      <th>longitude</th>\n",
       "      <th>latitude</th>\n",
       "      <th>f1</th>\n",
       "      <th>f2</th>\n",
       "      <th>f3</th>\n",
       "      <th>f4</th>\n",
       "      <th>f5</th>\n",
       "      <th>f6</th>\n",
       "      <th>t1</th>\n",
       "    </tr>\n",
       "  </thead>\n",
       "  <tbody>\n",
       "    <tr>\n",
       "      <th>0</th>\n",
       "      <td>0</td>\n",
       "      <td>14,25</td>\n",
       "      <td>52,17</td>\n",
       "      <td>11</td>\n",
       "      <td>2403</td>\n",
       "      <td>890</td>\n",
       "      <td>344</td>\n",
       "      <td>3</td>\n",
       "      <td>497</td>\n",
       "      <td>120800</td>\n",
       "    </tr>\n",
       "    <tr>\n",
       "      <th>1</th>\n",
       "      <td>1</td>\n",
       "      <td>14,11</td>\n",
       "      <td>52,2</td>\n",
       "      <td>15</td>\n",
       "      <td>5644</td>\n",
       "      <td>2659</td>\n",
       "      <td>783</td>\n",
       "      <td>6,7559</td>\n",
       "      <td>757</td>\n",
       "      <td>312000</td>\n",
       "    </tr>\n",
       "    <tr>\n",
       "      <th>2</th>\n",
       "      <td>2</td>\n",
       "      <td>14,26</td>\n",
       "      <td>52,1</td>\n",
       "      <td>52</td>\n",
       "      <td>2084</td>\n",
       "      <td>1438</td>\n",
       "      <td>516</td>\n",
       "      <td>2,3087</td>\n",
       "      <td>550</td>\n",
       "      <td>258600</td>\n",
       "    </tr>\n",
       "    <tr>\n",
       "      <th>3</th>\n",
       "      <td>3</td>\n",
       "      <td>11,47</td>\n",
       "      <td>53,09</td>\n",
       "      <td>32</td>\n",
       "      <td>3011</td>\n",
       "      <td>1287</td>\n",
       "      <td>525</td>\n",
       "      <td>5,0605</td>\n",
       "      <td>529</td>\n",
       "      <td>311000</td>\n",
       "    </tr>\n",
       "    <tr>\n",
       "      <th>4</th>\n",
       "      <td>4</td>\n",
       "      <td>11,46</td>\n",
       "      <td>53,03</td>\n",
       "      <td>33</td>\n",
       "      <td>2824</td>\n",
       "      <td>1797</td>\n",
       "      <td>493</td>\n",
       "      <td>3,6359</td>\n",
       "      <td>523</td>\n",
       "      <td>135100</td>\n",
       "    </tr>\n",
       "  </tbody>\n",
       "</table>\n",
       "</div>"
      ],
      "text/plain": [
       "   index, longitude latitude  f1    f2    f3   f4      f5   f6      t1\n",
       "0       0     14,25    52,17  11  2403   890  344       3  497  120800\n",
       "1       1     14,11     52,2  15  5644  2659  783  6,7559  757  312000\n",
       "2       2     14,26     52,1  52  2084  1438  516  2,3087  550  258600\n",
       "3       3     11,47    53,09  32  3011  1287  525  5,0605  529  311000\n",
       "4       4     11,46    53,03  33  2824  1797  493  3,6359  523  135100"
      ]
     },
     "execution_count": 4,
     "metadata": {},
     "output_type": "execute_result"
    }
   ],
   "source": [
    "# Show head for known_dataset.\n",
    "# We want to make sure that the known.csv dataset has been read in correctly.\n",
    "known_dataset.head()"
   ]
  },
  {
   "cell_type": "code",
   "execution_count": 5,
   "metadata": {},
   "outputs": [
    {
     "data": {
      "text/html": [
       "<div>\n",
       "<style scoped>\n",
       "    .dataframe tbody tr th:only-of-type {\n",
       "        vertical-align: middle;\n",
       "    }\n",
       "\n",
       "    .dataframe tbody tr th {\n",
       "        vertical-align: top;\n",
       "    }\n",
       "\n",
       "    .dataframe thead th {\n",
       "        text-align: right;\n",
       "    }\n",
       "</style>\n",
       "<table border=\"1\" class=\"dataframe\">\n",
       "  <thead>\n",
       "    <tr style=\"text-align: right;\">\n",
       "      <th></th>\n",
       "      <th>index</th>\n",
       "      <th>longitude</th>\n",
       "      <th>latitude</th>\n",
       "      <th>f1</th>\n",
       "      <th>f2</th>\n",
       "      <th>f3</th>\n",
       "      <th>f4</th>\n",
       "      <th>f5</th>\n",
       "      <th>f6</th>\n",
       "      <th>t1</th>\n",
       "    </tr>\n",
       "  </thead>\n",
       "  <tbody>\n",
       "    <tr>\n",
       "      <th>0</th>\n",
       "      <td>0</td>\n",
       "      <td>13,28</td>\n",
       "      <td>52,63</td>\n",
       "      <td>34</td>\n",
       "      <td>3850</td>\n",
       "      <td>1619</td>\n",
       "      <td>602</td>\n",
       "      <td>5,0465</td>\n",
       "      <td>608</td>\n",
       "      <td>0</td>\n",
       "    </tr>\n",
       "    <tr>\n",
       "      <th>1</th>\n",
       "      <td>1</td>\n",
       "      <td>13,31</td>\n",
       "      <td>52,45</td>\n",
       "      <td>21</td>\n",
       "      <td>5041</td>\n",
       "      <td>2719</td>\n",
       "      <td>1420</td>\n",
       "      <td>3,5335</td>\n",
       "      <td>1491</td>\n",
       "      <td>0</td>\n",
       "    </tr>\n",
       "    <tr>\n",
       "      <th>2</th>\n",
       "      <td>2</td>\n",
       "      <td>13,39</td>\n",
       "      <td>52,4</td>\n",
       "      <td>52</td>\n",
       "      <td>1509</td>\n",
       "      <td>674</td>\n",
       "      <td>244</td>\n",
       "      <td>4,9306</td>\n",
       "      <td>225</td>\n",
       "      <td>0</td>\n",
       "    </tr>\n",
       "    <tr>\n",
       "      <th>3</th>\n",
       "      <td>3</td>\n",
       "      <td>13,46</td>\n",
       "      <td>52,59</td>\n",
       "      <td>42</td>\n",
       "      <td>1291</td>\n",
       "      <td>1535</td>\n",
       "      <td>332</td>\n",
       "      <td>1,9083</td>\n",
       "      <td>345</td>\n",
       "      <td>0</td>\n",
       "    </tr>\n",
       "    <tr>\n",
       "      <th>4</th>\n",
       "      <td>4</td>\n",
       "      <td>13,22</td>\n",
       "      <td>52,51</td>\n",
       "      <td>27</td>\n",
       "      <td>4742</td>\n",
       "      <td>1682</td>\n",
       "      <td>696</td>\n",
       "      <td>6,194</td>\n",
       "      <td>775</td>\n",
       "      <td>0</td>\n",
       "    </tr>\n",
       "  </tbody>\n",
       "</table>\n",
       "</div>"
      ],
      "text/plain": [
       "   index longitude latitude  f1    f2    f3    f4      f5    f6  t1\n",
       "0      0     13,28    52,63  34  3850  1619   602  5,0465   608   0\n",
       "1      1     13,31    52,45  21  5041  2719  1420  3,5335  1491   0\n",
       "2      2     13,39     52,4  52  1509   674   244  4,9306   225   0\n",
       "3      3     13,46    52,59  42  1291  1535   332  1,9083   345   0\n",
       "4      4     13,22    52,51  27  4742  1682   696   6,194   775   0"
      ]
     },
     "execution_count": 5,
     "metadata": {},
     "output_type": "execute_result"
    }
   ],
   "source": [
    "# Show head for unknown_dataset.\n",
    "# We want to make sure that the unknown.csv dataset has been read in correctly.\n",
    "unknown_dataset.head()"
   ]
  },
  {
   "cell_type": "markdown",
   "metadata": {},
   "source": [
    "## Reduce dataset size\n",
    "Very often it happens that we have very large datasets of several gigabytes. By formatting the data types into smaller data types, the dataset can be reduced enormously by addressing it in the memory."
   ]
  },
  {
   "cell_type": "code",
   "execution_count": 6,
   "metadata": {},
   "outputs": [
    {
     "name": "stdout",
     "output_type": "stream",
     "text": [
      "Memory usage of properties dataframe is : 1.14453125  MB\n",
      "******************************\n",
      "Column:  index,\n",
      "dtype before:  int64\n",
      "dtype after:  uint16\n",
      "******************************\n",
      "******************************\n",
      "Column:  f1\n",
      "dtype before:  int64\n",
      "dtype after:  uint8\n",
      "******************************\n",
      "******************************\n",
      "Column:  f3\n",
      "dtype before:  int64\n",
      "dtype after:  uint16\n",
      "******************************\n",
      "******************************\n",
      "Column:  f4\n",
      "dtype before:  int64\n",
      "dtype after:  uint16\n",
      "******************************\n",
      "******************************\n",
      "Column:  t1\n",
      "dtype before:  int64\n",
      "dtype after:  uint32\n",
      "******************************\n",
      "___MEMORY USAGE AFTER COMPLETION:___\n",
      "Memory usage is:  0.7296829223632812  MB\n",
      "This is  63.753866254266214 % of the initial size\n"
     ]
    }
   ],
   "source": [
    "# Reduce known_dataset size by change the datatypes.\n",
    "known_dataset, NAlist = reduce_mem_usage(known_dataset)"
   ]
  },
  {
   "cell_type": "code",
   "execution_count": 7,
   "metadata": {},
   "outputs": [
    {
     "name": "stdout",
     "output_type": "stream",
     "text": [
      "Memory usage of properties dataframe is : 0.0586395263671875  MB\n",
      "******************************\n",
      "Column:  index\n",
      "dtype before:  int64\n",
      "dtype after:  uint16\n",
      "******************************\n",
      "******************************\n",
      "Column:  f1\n",
      "dtype before:  int64\n",
      "dtype after:  uint8\n",
      "******************************\n",
      "******************************\n",
      "Column:  f2\n",
      "dtype before:  int64\n",
      "dtype after:  uint16\n",
      "******************************\n",
      "******************************\n",
      "Column:  f3\n",
      "dtype before:  int64\n",
      "dtype after:  uint16\n",
      "******************************\n",
      "******************************\n",
      "Column:  f4\n",
      "dtype before:  int64\n",
      "dtype after:  uint16\n",
      "******************************\n",
      "******************************\n",
      "Column:  t1\n",
      "dtype before:  int64\n",
      "dtype after:  uint8\n",
      "******************************\n",
      "___MEMORY USAGE AFTER COMPLETION:___\n",
      "Memory usage is:  0.030843734741210938  MB\n",
      "This is  52.59888108248764 % of the initial size\n"
     ]
    }
   ],
   "source": [
    "# Reduce unknown_dataset size by change the datatypes\n",
    "unknown_dataset, NAlist = reduce_mem_usage(unknown_dataset)"
   ]
  },
  {
   "cell_type": "markdown",
   "metadata": {},
   "source": [
    "## Export Compressed Datasets"
   ]
  },
  {
   "cell_type": "code",
   "execution_count": 8,
   "metadata": {},
   "outputs": [],
   "source": [
    "# Save compressed known dataset to a new .csv file\n",
    "path = 'data/compressed_known.csv'\n",
    "known_dataset.to_csv(path, \n",
    "index=False) # Avoid creating an index in a saved .csv file."
   ]
  },
  {
   "cell_type": "code",
   "execution_count": 9,
   "metadata": {},
   "outputs": [],
   "source": [
    "# Save cleaned unknown dataset to a new .csv file\n",
    "path = 'data/compressed_unknown.csv'\n",
    "unknown_dataset.to_csv(path, \n",
    "index=False) # Avoid creating an index in a saved .csv file."
   ]
  }
 ],
 "metadata": {
  "interpreter": {
   "hash": "79aec032834ca8c7adc23337e31b2f95bcd74aaeb73f4918421d2e03d3d0781b"
  },
  "kernelspec": {
   "display_name": "Python 3.8.5 64-bit ('.venv': venv)",
   "language": "python",
   "name": "python3"
  },
  "language_info": {
   "codemirror_mode": {
    "name": "ipython",
    "version": 3
   },
   "file_extension": ".py",
   "mimetype": "text/x-python",
   "name": "python",
   "nbconvert_exporter": "python",
   "pygments_lexer": "ipython3",
   "version": "3.8.5"
  }
 },
 "nbformat": 4,
 "nbformat_minor": 2
}
