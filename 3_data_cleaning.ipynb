{
 "cells": [
  {
   "cell_type": "markdown",
   "metadata": {},
   "source": [
    "# 3. Data Cleaning\n",
    "Fix the inconsistencies within the data and handle the missing values."
   ]
  },
  {
   "cell_type": "markdown",
   "metadata": {},
   "source": [
    "## Import Libraries"
   ]
  },
  {
   "cell_type": "code",
   "execution_count": 1,
   "metadata": {},
   "outputs": [],
   "source": [
    "# Basic import(s)\n",
    "import pandas as pd\n",
    "import numpy as np\n",
    "\n",
    "# Visualization libraries\n",
    "import missingno as msno\n",
    "%matplotlib inline\n",
    "\n",
    "# Hide all warnings in ipython\n",
    "import warnings\n",
    "warnings.filterwarnings('ignore')"
   ]
  },
  {
   "cell_type": "markdown",
   "metadata": {},
   "source": [
    "## Import Datasets"
   ]
  },
  {
   "cell_type": "code",
   "execution_count": 2,
   "metadata": {},
   "outputs": [],
   "source": [
    "# Loading of the known.csv dataset via pandas.\n",
    "known_dataset = pd.read_csv('data/known.csv', sep=';', # Seperate semi colin in csv file with pandas separator. \n",
    "                            decimal=',', # Specify how decimals interprets.\n",
    "                            encoding='utf-8') \n"
   ]
  },
  {
   "cell_type": "code",
   "execution_count": 3,
   "metadata": {},
   "outputs": [],
   "source": [
    "# Loading of the unknown.csv dataset via pandas.\n",
    "unknown_dataset = pd.read_csv('data/unknown.csv', sep=';', # Seperate semi colin in csv file with pandas separator. \n",
    "                               decimal=',', # Specify how decimals interprets.\n",
    "                            encoding='utf-8') "
   ]
  },
  {
   "cell_type": "code",
   "execution_count": 4,
   "metadata": {},
   "outputs": [
    {
     "data": {
      "text/html": [
       "<div>\n",
       "<style scoped>\n",
       "    .dataframe tbody tr th:only-of-type {\n",
       "        vertical-align: middle;\n",
       "    }\n",
       "\n",
       "    .dataframe tbody tr th {\n",
       "        vertical-align: top;\n",
       "    }\n",
       "\n",
       "    .dataframe thead th {\n",
       "        text-align: right;\n",
       "    }\n",
       "</style>\n",
       "<table border=\"1\" class=\"dataframe\">\n",
       "  <thead>\n",
       "    <tr style=\"text-align: right;\">\n",
       "      <th></th>\n",
       "      <th>index,</th>\n",
       "      <th>longitude</th>\n",
       "      <th>latitude</th>\n",
       "      <th>f1</th>\n",
       "      <th>f2</th>\n",
       "      <th>f3</th>\n",
       "      <th>f4</th>\n",
       "      <th>f5</th>\n",
       "      <th>f6</th>\n",
       "      <th>t1</th>\n",
       "    </tr>\n",
       "  </thead>\n",
       "  <tbody>\n",
       "    <tr>\n",
       "      <th>0</th>\n",
       "      <td>0</td>\n",
       "      <td>14.25</td>\n",
       "      <td>52.17</td>\n",
       "      <td>11</td>\n",
       "      <td>2403.0</td>\n",
       "      <td>890</td>\n",
       "      <td>344</td>\n",
       "      <td>3.0000</td>\n",
       "      <td>497.0</td>\n",
       "      <td>120800</td>\n",
       "    </tr>\n",
       "    <tr>\n",
       "      <th>1</th>\n",
       "      <td>1</td>\n",
       "      <td>14.11</td>\n",
       "      <td>52.20</td>\n",
       "      <td>15</td>\n",
       "      <td>5644.0</td>\n",
       "      <td>2659</td>\n",
       "      <td>783</td>\n",
       "      <td>6.7559</td>\n",
       "      <td>757.0</td>\n",
       "      <td>312000</td>\n",
       "    </tr>\n",
       "    <tr>\n",
       "      <th>2</th>\n",
       "      <td>2</td>\n",
       "      <td>14.26</td>\n",
       "      <td>52.10</td>\n",
       "      <td>52</td>\n",
       "      <td>2084.0</td>\n",
       "      <td>1438</td>\n",
       "      <td>516</td>\n",
       "      <td>2.3087</td>\n",
       "      <td>550.0</td>\n",
       "      <td>258600</td>\n",
       "    </tr>\n",
       "    <tr>\n",
       "      <th>3</th>\n",
       "      <td>3</td>\n",
       "      <td>11.47</td>\n",
       "      <td>53.09</td>\n",
       "      <td>32</td>\n",
       "      <td>3011.0</td>\n",
       "      <td>1287</td>\n",
       "      <td>525</td>\n",
       "      <td>5.0605</td>\n",
       "      <td>529.0</td>\n",
       "      <td>311000</td>\n",
       "    </tr>\n",
       "    <tr>\n",
       "      <th>4</th>\n",
       "      <td>4</td>\n",
       "      <td>11.46</td>\n",
       "      <td>53.03</td>\n",
       "      <td>33</td>\n",
       "      <td>2824.0</td>\n",
       "      <td>1797</td>\n",
       "      <td>493</td>\n",
       "      <td>3.6359</td>\n",
       "      <td>523.0</td>\n",
       "      <td>135100</td>\n",
       "    </tr>\n",
       "  </tbody>\n",
       "</table>\n",
       "</div>"
      ],
      "text/plain": [
       "   index,  longitude  latitude  f1      f2    f3   f4      f5     f6      t1\n",
       "0       0      14.25     52.17  11  2403.0   890  344  3.0000  497.0  120800\n",
       "1       1      14.11     52.20  15  5644.0  2659  783  6.7559  757.0  312000\n",
       "2       2      14.26     52.10  52  2084.0  1438  516  2.3087  550.0  258600\n",
       "3       3      11.47     53.09  32  3011.0  1287  525  5.0605  529.0  311000\n",
       "4       4      11.46     53.03  33  2824.0  1797  493  3.6359  523.0  135100"
      ]
     },
     "execution_count": 4,
     "metadata": {},
     "output_type": "execute_result"
    }
   ],
   "source": [
    "# Show head for known_dataset.\n",
    "# We want to make sure that the known.csv dataset has been read in correctly.\n",
    "known_dataset.head()"
   ]
  },
  {
   "cell_type": "code",
   "execution_count": 5,
   "metadata": {},
   "outputs": [
    {
     "data": {
      "text/html": [
       "<div>\n",
       "<style scoped>\n",
       "    .dataframe tbody tr th:only-of-type {\n",
       "        vertical-align: middle;\n",
       "    }\n",
       "\n",
       "    .dataframe tbody tr th {\n",
       "        vertical-align: top;\n",
       "    }\n",
       "\n",
       "    .dataframe thead th {\n",
       "        text-align: right;\n",
       "    }\n",
       "</style>\n",
       "<table border=\"1\" class=\"dataframe\">\n",
       "  <thead>\n",
       "    <tr style=\"text-align: right;\">\n",
       "      <th></th>\n",
       "      <th>index</th>\n",
       "      <th>longitude</th>\n",
       "      <th>latitude</th>\n",
       "      <th>f1</th>\n",
       "      <th>f2</th>\n",
       "      <th>f3</th>\n",
       "      <th>f4</th>\n",
       "      <th>f5</th>\n",
       "      <th>f6</th>\n",
       "      <th>t1</th>\n",
       "    </tr>\n",
       "  </thead>\n",
       "  <tbody>\n",
       "    <tr>\n",
       "      <th>0</th>\n",
       "      <td>0</td>\n",
       "      <td>13.28</td>\n",
       "      <td>52.63</td>\n",
       "      <td>34</td>\n",
       "      <td>3850</td>\n",
       "      <td>1619</td>\n",
       "      <td>602</td>\n",
       "      <td>5.0465</td>\n",
       "      <td>608.0</td>\n",
       "      <td>0</td>\n",
       "    </tr>\n",
       "    <tr>\n",
       "      <th>1</th>\n",
       "      <td>1</td>\n",
       "      <td>13.31</td>\n",
       "      <td>52.45</td>\n",
       "      <td>21</td>\n",
       "      <td>5041</td>\n",
       "      <td>2719</td>\n",
       "      <td>1420</td>\n",
       "      <td>3.5335</td>\n",
       "      <td>1491.0</td>\n",
       "      <td>0</td>\n",
       "    </tr>\n",
       "    <tr>\n",
       "      <th>2</th>\n",
       "      <td>2</td>\n",
       "      <td>13.39</td>\n",
       "      <td>52.40</td>\n",
       "      <td>52</td>\n",
       "      <td>1509</td>\n",
       "      <td>674</td>\n",
       "      <td>244</td>\n",
       "      <td>4.9306</td>\n",
       "      <td>225.0</td>\n",
       "      <td>0</td>\n",
       "    </tr>\n",
       "    <tr>\n",
       "      <th>3</th>\n",
       "      <td>3</td>\n",
       "      <td>13.46</td>\n",
       "      <td>52.59</td>\n",
       "      <td>42</td>\n",
       "      <td>1291</td>\n",
       "      <td>1535</td>\n",
       "      <td>332</td>\n",
       "      <td>1.9083</td>\n",
       "      <td>345.0</td>\n",
       "      <td>0</td>\n",
       "    </tr>\n",
       "    <tr>\n",
       "      <th>4</th>\n",
       "      <td>4</td>\n",
       "      <td>13.22</td>\n",
       "      <td>52.51</td>\n",
       "      <td>27</td>\n",
       "      <td>4742</td>\n",
       "      <td>1682</td>\n",
       "      <td>696</td>\n",
       "      <td>6.1940</td>\n",
       "      <td>775.0</td>\n",
       "      <td>0</td>\n",
       "    </tr>\n",
       "  </tbody>\n",
       "</table>\n",
       "</div>"
      ],
      "text/plain": [
       "   index  longitude  latitude  f1    f2    f3    f4      f5      f6  t1\n",
       "0      0      13.28     52.63  34  3850  1619   602  5.0465   608.0   0\n",
       "1      1      13.31     52.45  21  5041  2719  1420  3.5335  1491.0   0\n",
       "2      2      13.39     52.40  52  1509   674   244  4.9306   225.0   0\n",
       "3      3      13.46     52.59  42  1291  1535   332  1.9083   345.0   0\n",
       "4      4      13.22     52.51  27  4742  1682   696  6.1940   775.0   0"
      ]
     },
     "execution_count": 5,
     "metadata": {},
     "output_type": "execute_result"
    }
   ],
   "source": [
    "# Show head for unknown_dataset.\n",
    "# We want to make sure that the unknown.csv dataset has been read in correctly.\n",
    "unknown_dataset.head()"
   ]
  },
  {
   "cell_type": "markdown",
   "metadata": {},
   "source": [
    "## Data Preparation And Quality Check\n",
    "After we have successfully loaded the data, we need a good overview of quality of the data."
   ]
  },
  {
   "cell_type": "code",
   "execution_count": 6,
   "metadata": {},
   "outputs": [],
   "source": [
    "# Drop index columns because it's not necessary.\n",
    "known_dataset = known_dataset.drop(labels='index,', axis = 1)\n",
    "unknown_dataset = unknown_dataset.drop(labels='index', axis = 1)"
   ]
  },
  {
   "cell_type": "code",
   "execution_count": 7,
   "metadata": {},
   "outputs": [],
   "source": [
    "# Import readed .csv dataset into DataFrame.\n",
    "known_dataset=pd.DataFrame(known_dataset)\n",
    "unknown_dataset=pd.DataFrame(unknown_dataset)"
   ]
  },
  {
   "cell_type": "code",
   "execution_count": 8,
   "metadata": {},
   "outputs": [],
   "source": [
    "# Create column named \"id\" based on row index start with 1.\n",
    "known_dataset['id']=known_dataset.index+1\n",
    "unknown_dataset['id']=unknown_dataset.index+1"
   ]
  },
  {
   "cell_type": "code",
   "execution_count": 9,
   "metadata": {},
   "outputs": [
    {
     "data": {
      "text/html": [
       "<div>\n",
       "<style scoped>\n",
       "    .dataframe tbody tr th:only-of-type {\n",
       "        vertical-align: middle;\n",
       "    }\n",
       "\n",
       "    .dataframe tbody tr th {\n",
       "        vertical-align: top;\n",
       "    }\n",
       "\n",
       "    .dataframe thead th {\n",
       "        text-align: right;\n",
       "    }\n",
       "</style>\n",
       "<table border=\"1\" class=\"dataframe\">\n",
       "  <thead>\n",
       "    <tr style=\"text-align: right;\">\n",
       "      <th></th>\n",
       "      <th>longitude</th>\n",
       "      <th>latitude</th>\n",
       "      <th>f1</th>\n",
       "      <th>f2</th>\n",
       "      <th>f3</th>\n",
       "      <th>f4</th>\n",
       "      <th>f5</th>\n",
       "      <th>f6</th>\n",
       "      <th>t1</th>\n",
       "      <th>id</th>\n",
       "    </tr>\n",
       "  </thead>\n",
       "  <tbody>\n",
       "    <tr>\n",
       "      <th>0</th>\n",
       "      <td>14.25</td>\n",
       "      <td>52.17</td>\n",
       "      <td>11</td>\n",
       "      <td>2403.0</td>\n",
       "      <td>890</td>\n",
       "      <td>344</td>\n",
       "      <td>3.0000</td>\n",
       "      <td>497.0</td>\n",
       "      <td>120800</td>\n",
       "      <td>1</td>\n",
       "    </tr>\n",
       "    <tr>\n",
       "      <th>1</th>\n",
       "      <td>14.11</td>\n",
       "      <td>52.20</td>\n",
       "      <td>15</td>\n",
       "      <td>5644.0</td>\n",
       "      <td>2659</td>\n",
       "      <td>783</td>\n",
       "      <td>6.7559</td>\n",
       "      <td>757.0</td>\n",
       "      <td>312000</td>\n",
       "      <td>2</td>\n",
       "    </tr>\n",
       "    <tr>\n",
       "      <th>2</th>\n",
       "      <td>14.26</td>\n",
       "      <td>52.10</td>\n",
       "      <td>52</td>\n",
       "      <td>2084.0</td>\n",
       "      <td>1438</td>\n",
       "      <td>516</td>\n",
       "      <td>2.3087</td>\n",
       "      <td>550.0</td>\n",
       "      <td>258600</td>\n",
       "      <td>3</td>\n",
       "    </tr>\n",
       "    <tr>\n",
       "      <th>3</th>\n",
       "      <td>11.47</td>\n",
       "      <td>53.09</td>\n",
       "      <td>32</td>\n",
       "      <td>3011.0</td>\n",
       "      <td>1287</td>\n",
       "      <td>525</td>\n",
       "      <td>5.0605</td>\n",
       "      <td>529.0</td>\n",
       "      <td>311000</td>\n",
       "      <td>4</td>\n",
       "    </tr>\n",
       "    <tr>\n",
       "      <th>4</th>\n",
       "      <td>11.46</td>\n",
       "      <td>53.03</td>\n",
       "      <td>33</td>\n",
       "      <td>2824.0</td>\n",
       "      <td>1797</td>\n",
       "      <td>493</td>\n",
       "      <td>3.6359</td>\n",
       "      <td>523.0</td>\n",
       "      <td>135100</td>\n",
       "      <td>5</td>\n",
       "    </tr>\n",
       "  </tbody>\n",
       "</table>\n",
       "</div>"
      ],
      "text/plain": [
       "   longitude  latitude  f1      f2    f3   f4      f5     f6      t1  id\n",
       "0      14.25     52.17  11  2403.0   890  344  3.0000  497.0  120800   1\n",
       "1      14.11     52.20  15  5644.0  2659  783  6.7559  757.0  312000   2\n",
       "2      14.26     52.10  52  2084.0  1438  516  2.3087  550.0  258600   3\n",
       "3      11.47     53.09  32  3011.0  1287  525  5.0605  529.0  311000   4\n",
       "4      11.46     53.03  33  2824.0  1797  493  3.6359  523.0  135100   5"
      ]
     },
     "execution_count": 9,
     "metadata": {},
     "output_type": "execute_result"
    }
   ],
   "source": [
    "# Check whether the adjustments produce the desired result for known.csv dataset.\n",
    "known_dataset.head()"
   ]
  },
  {
   "cell_type": "code",
   "execution_count": 10,
   "metadata": {},
   "outputs": [
    {
     "data": {
      "text/html": [
       "<div>\n",
       "<style scoped>\n",
       "    .dataframe tbody tr th:only-of-type {\n",
       "        vertical-align: middle;\n",
       "    }\n",
       "\n",
       "    .dataframe tbody tr th {\n",
       "        vertical-align: top;\n",
       "    }\n",
       "\n",
       "    .dataframe thead th {\n",
       "        text-align: right;\n",
       "    }\n",
       "</style>\n",
       "<table border=\"1\" class=\"dataframe\">\n",
       "  <thead>\n",
       "    <tr style=\"text-align: right;\">\n",
       "      <th></th>\n",
       "      <th>longitude</th>\n",
       "      <th>latitude</th>\n",
       "      <th>f1</th>\n",
       "      <th>f2</th>\n",
       "      <th>f3</th>\n",
       "      <th>f4</th>\n",
       "      <th>f5</th>\n",
       "      <th>f6</th>\n",
       "      <th>t1</th>\n",
       "      <th>id</th>\n",
       "    </tr>\n",
       "  </thead>\n",
       "  <tbody>\n",
       "    <tr>\n",
       "      <th>0</th>\n",
       "      <td>13.28</td>\n",
       "      <td>52.63</td>\n",
       "      <td>34</td>\n",
       "      <td>3850</td>\n",
       "      <td>1619</td>\n",
       "      <td>602</td>\n",
       "      <td>5.0465</td>\n",
       "      <td>608.0</td>\n",
       "      <td>0</td>\n",
       "      <td>1</td>\n",
       "    </tr>\n",
       "    <tr>\n",
       "      <th>1</th>\n",
       "      <td>13.31</td>\n",
       "      <td>52.45</td>\n",
       "      <td>21</td>\n",
       "      <td>5041</td>\n",
       "      <td>2719</td>\n",
       "      <td>1420</td>\n",
       "      <td>3.5335</td>\n",
       "      <td>1491.0</td>\n",
       "      <td>0</td>\n",
       "      <td>2</td>\n",
       "    </tr>\n",
       "    <tr>\n",
       "      <th>2</th>\n",
       "      <td>13.39</td>\n",
       "      <td>52.40</td>\n",
       "      <td>52</td>\n",
       "      <td>1509</td>\n",
       "      <td>674</td>\n",
       "      <td>244</td>\n",
       "      <td>4.9306</td>\n",
       "      <td>225.0</td>\n",
       "      <td>0</td>\n",
       "      <td>3</td>\n",
       "    </tr>\n",
       "    <tr>\n",
       "      <th>3</th>\n",
       "      <td>13.46</td>\n",
       "      <td>52.59</td>\n",
       "      <td>42</td>\n",
       "      <td>1291</td>\n",
       "      <td>1535</td>\n",
       "      <td>332</td>\n",
       "      <td>1.9083</td>\n",
       "      <td>345.0</td>\n",
       "      <td>0</td>\n",
       "      <td>4</td>\n",
       "    </tr>\n",
       "    <tr>\n",
       "      <th>4</th>\n",
       "      <td>13.22</td>\n",
       "      <td>52.51</td>\n",
       "      <td>27</td>\n",
       "      <td>4742</td>\n",
       "      <td>1682</td>\n",
       "      <td>696</td>\n",
       "      <td>6.1940</td>\n",
       "      <td>775.0</td>\n",
       "      <td>0</td>\n",
       "      <td>5</td>\n",
       "    </tr>\n",
       "  </tbody>\n",
       "</table>\n",
       "</div>"
      ],
      "text/plain": [
       "   longitude  latitude  f1    f2    f3    f4      f5      f6  t1  id\n",
       "0      13.28     52.63  34  3850  1619   602  5.0465   608.0   0   1\n",
       "1      13.31     52.45  21  5041  2719  1420  3.5335  1491.0   0   2\n",
       "2      13.39     52.40  52  1509   674   244  4.9306   225.0   0   3\n",
       "3      13.46     52.59  42  1291  1535   332  1.9083   345.0   0   4\n",
       "4      13.22     52.51  27  4742  1682   696  6.1940   775.0   0   5"
      ]
     },
     "execution_count": 10,
     "metadata": {},
     "output_type": "execute_result"
    }
   ],
   "source": [
    "# Check whether the adjustments produce the desired result for unknown.csv dataset.\n",
    "unknown_dataset.head()"
   ]
  },
  {
   "cell_type": "code",
   "execution_count": 11,
   "metadata": {},
   "outputs": [
    {
     "data": {
      "text/plain": [
       "500001    700\n",
       "162500     86\n",
       "137500     84\n",
       "112500     76\n",
       "187500     75\n",
       "         ... \n",
       "393700      1\n",
       "57800       1\n",
       "360900      1\n",
       "41400       1\n",
       "303100      1\n",
       "Name: t1, Length: 3599, dtype: int64"
      ]
     },
     "execution_count": 11,
     "metadata": {},
     "output_type": "execute_result"
    }
   ],
   "source": [
    "# Let's see how many target values are in our known.csv dataset.\n",
    "known_dataset['t1'].value_counts()"
   ]
  },
  {
   "cell_type": "code",
   "execution_count": 12,
   "metadata": {},
   "outputs": [
    {
     "data": {
      "text/plain": [
       "0    767\n",
       "Name: t1, dtype: int64"
      ]
     },
     "execution_count": 12,
     "metadata": {},
     "output_type": "execute_result"
    }
   ],
   "source": [
    "# Let's see how many target values are in our unknown.csv dataset.\n",
    "unknown_dataset['t1'].value_counts()"
   ]
  },
  {
   "cell_type": "markdown",
   "metadata": {},
   "source": [
    "#### 1. How many data samples are in our datasets?"
   ]
  },
  {
   "cell_type": "code",
   "execution_count": 13,
   "metadata": {},
   "outputs": [
    {
     "name": "stdout",
     "output_type": "stream",
     "text": [
      "The known.csv dataset has 15000 rows and 10 columns.\n"
     ]
    }
   ],
   "source": [
    "# How many datas and columns are in our known.csv dataset?\n",
    "print(\"The known.csv dataset has {} rows and {} columns.\".format(known_dataset.shape[0], known_dataset.shape[1]))"
   ]
  },
  {
   "cell_type": "markdown",
   "metadata": {},
   "source": [
    "Each row cointains the details of the known.csv dataset:\n",
    "15000 data samples are included in our known.csv dataset."
   ]
  },
  {
   "cell_type": "code",
   "execution_count": 14,
   "metadata": {},
   "outputs": [
    {
     "name": "stdout",
     "output_type": "stream",
     "text": [
      "The unknown.csv dataset has 767 rows and 10 columns.\n"
     ]
    }
   ],
   "source": [
    "# How many datas and columns are in our known.csv dataset?\n",
    "print(\"The unknown.csv dataset has {} rows and {} columns.\".format(unknown_dataset.shape[0], unknown_dataset.shape[1]))"
   ]
  },
  {
   "cell_type": "markdown",
   "metadata": {},
   "source": [
    "Each row cointains the details of the unknown.csv dataset:\n",
    "767 data samples are included in our unknown.csv dataset."
   ]
  },
  {
   "cell_type": "markdown",
   "metadata": {},
   "source": [
    "#### 2. What format is the data in (int=number, float= decimal number, object=text)? Which formats are surprising?"
   ]
  },
  {
   "cell_type": "code",
   "execution_count": 15,
   "metadata": {},
   "outputs": [
    {
     "name": "stdout",
     "output_type": "stream",
     "text": [
      "<class 'pandas.core.frame.DataFrame'>\n",
      "RangeIndex: 15000 entries, 0 to 14999\n",
      "Data columns (total 10 columns):\n",
      " #   Column     Non-Null Count  Dtype  \n",
      "---  ------     --------------  -----  \n",
      " 0   longitude  15000 non-null  float64\n",
      " 1   latitude   15000 non-null  float64\n",
      " 2   f1         15000 non-null  int64  \n",
      " 3   f2         14999 non-null  float64\n",
      " 4   f3         15000 non-null  int64  \n",
      " 5   f4         15000 non-null  int64  \n",
      " 6   f5         15000 non-null  float64\n",
      " 7   f6         14854 non-null  float64\n",
      " 8   t1         15000 non-null  int64  \n",
      " 9   id         15000 non-null  int64  \n",
      "dtypes: float64(5), int64(5)\n",
      "memory usage: 1.1 MB\n"
     ]
    }
   ],
   "source": [
    "# Check data formats from known.csv dataset.\n",
    "known_dataset.info()"
   ]
  },
  {
   "cell_type": "markdown",
   "metadata": {},
   "source": [
    "Our known.csv dataset cointains 5 columns with integers (int) and 5 columns with float."
   ]
  },
  {
   "cell_type": "code",
   "execution_count": 16,
   "metadata": {},
   "outputs": [
    {
     "name": "stdout",
     "output_type": "stream",
     "text": [
      "<class 'pandas.core.frame.DataFrame'>\n",
      "RangeIndex: 767 entries, 0 to 766\n",
      "Data columns (total 10 columns):\n",
      " #   Column     Non-Null Count  Dtype  \n",
      "---  ------     --------------  -----  \n",
      " 0   longitude  767 non-null    float64\n",
      " 1   latitude   767 non-null    float64\n",
      " 2   f1         767 non-null    int64  \n",
      " 3   f2         767 non-null    int64  \n",
      " 4   f3         767 non-null    int64  \n",
      " 5   f4         767 non-null    int64  \n",
      " 6   f5         767 non-null    float64\n",
      " 7   f6         758 non-null    float64\n",
      " 8   t1         767 non-null    int64  \n",
      " 9   id         767 non-null    int64  \n",
      "dtypes: float64(4), int64(6)\n",
      "memory usage: 60.0 KB\n"
     ]
    }
   ],
   "source": [
    "# Check data formats from unknown.csv dataset.\n",
    "unknown_dataset.info()"
   ]
  },
  {
   "cell_type": "markdown",
   "metadata": {},
   "source": [
    "Our unknown.csv dataset cointains 6 columns with integers (int) and 4 columns with float."
   ]
  },
  {
   "cell_type": "markdown",
   "metadata": {},
   "source": [
    "#### 3. Are there any missing values?\n",
    "\n",
    "In general missing values can be handled by deleting the rows or columns having null values. If columns have more than half of the rows as null then the entire column can be dropped. The rows which are having one or more column values as null can also be dropped.\n",
    "\n",
    "We can handle missing values in the dataset in 7 ways:\n",
    "1. **Deleting rows with missing values:**\n",
    "\n",
    "Pros:\n",
    "- A model trained with the removal of missing values creates a robust model.\n",
    "\n",
    "Cons:\n",
    "- Loss of a lot of information.\n",
    "- Works poorly if the percentage of missing values is excessive in comparison to the complete dataset.\n",
    "\n",
    "2. **Impute missing values for continous variable:**\n",
    "\n",
    "Pros:\n",
    "- Prevent data loss which results in deletion of rows or columns.\n",
    "- Works well with  a small dataset and is easy to implement.\n",
    "\n",
    "Cons:\n",
    "- Works only with numerical continuous variables.\n",
    "- Can cause data leakage.\n",
    "- Do not factor the covariance between features.\n",
    "\n",
    "3. **Impute missing values for categorical variable:**\n",
    "\n",
    "Pros:\n",
    "- Prevent data loss which results in deletion of rows or columns.\n",
    "- Works well with a small dataset and is easy to implement.\n",
    "\n",
    "Cons:\n",
    "- Works only with categorical variables.\n",
    "- Addition of few features to the model while encoding, which maay result in poor performance.\n",
    "\n",
    "4. **Other Imputation Methods:**\n",
    "\n",
    "Depending on the nature of the data or data type, some other imputation methods may be more appropriate to impute missing values.\n",
    "\n",
    "For example, for the data variable having longitudinal behavior, it might make sense to use the last valid observation to fill the missing value. This is known as the Last observation carried forward (LOCF) method.\n",
    "\n",
    "For the time-series dataset variable, it makes sense to use the interpolation of the variable before and after a timestamp for a missing value.\n",
    "\n",
    "5. **Using Algorithms that support missing values:**\n",
    "\n",
    "Pros:\n",
    "- No need to handle missing values in each column as ML algorithms will handle them efficiently.\n",
    "\n",
    "Cons:\n",
    "- No implementation of these ML algorithms in scikit-learn library.\n",
    "\n",
    "6. **Prediction of missing values:**\n",
    "\n",
    "Pros:\n",
    "- Give a better result than earlier methods.\n",
    "- Takes into account the covariance between the missing value column and other columns.\n",
    "\n",
    "Cons:\n",
    "- Considered only as a proxy for the true values.\n",
    "\n",
    "7. **Imputation using Deep Learning Library - Datawig:**\n",
    "\n",
    "Pros:\n",
    "- Quite accurate compared to other methods.\n",
    "- It supports CPUs and GPUs.\n",
    "\n",
    "Cons:\n",
    "- Can be quite slow with large datasets."
   ]
  },
  {
   "cell_type": "code",
   "execution_count": 17,
   "metadata": {},
   "outputs": [
    {
     "data": {
      "text/plain": [
       "<AxesSubplot:>"
      ]
     },
     "execution_count": 17,
     "metadata": {},
     "output_type": "execute_result"
    },
    {
     "data": {
      "image/png": "[encoded data removed]",
      "text/plain": [
       "<Figure size 1800x720 with 2 Axes>"
      ]
     },
     "metadata": {
      "needs_background": "light"
     },
     "output_type": "display_data"
    }
   ],
   "source": [
    "# The msno.matrix nullity matrix is a data-dense display which lets us quickly visually pick out patterns in data completion.\n",
    "# Check known.csv dataset.\n",
    "msno.matrix(known_dataset)"
   ]
  },
  {
   "cell_type": "code",
   "execution_count": 18,
   "metadata": {},
   "outputs": [
    {
     "data": {
      "text/plain": [
       "f6           146\n",
       "f2             1\n",
       "longitude      0\n",
       "latitude       0\n",
       "f1             0\n",
       "f3             0\n",
       "f4             0\n",
       "f5             0\n",
       "t1             0\n",
       "id             0\n",
       "dtype: int64"
      ]
     },
     "execution_count": 18,
     "metadata": {},
     "output_type": "execute_result"
    }
   ],
   "source": [
    "# Missing values\n",
    "known_dataset.isnull().sum().sort_values(ascending=False)"
   ]
  },
  {
   "cell_type": "code",
   "execution_count": 19,
   "metadata": {},
   "outputs": [
    {
     "data": {
      "text/html": [
       "<div>\n",
       "<style scoped>\n",
       "    .dataframe tbody tr th:only-of-type {\n",
       "        vertical-align: middle;\n",
       "    }\n",
       "\n",
       "    .dataframe tbody tr th {\n",
       "        vertical-align: top;\n",
       "    }\n",
       "\n",
       "    .dataframe thead th {\n",
       "        text-align: right;\n",
       "    }\n",
       "</style>\n",
       "<table border=\"1\" class=\"dataframe\">\n",
       "  <thead>\n",
       "    <tr style=\"text-align: right;\">\n",
       "      <th></th>\n",
       "      <th>count</th>\n",
       "      <th>percentage</th>\n",
       "    </tr>\n",
       "  </thead>\n",
       "  <tbody>\n",
       "    <tr>\n",
       "      <th>f2</th>\n",
       "      <td>1</td>\n",
       "      <td>0.01</td>\n",
       "    </tr>\n",
       "    <tr>\n",
       "      <th>f6</th>\n",
       "      <td>146</td>\n",
       "      <td>0.97</td>\n",
       "    </tr>\n",
       "  </tbody>\n",
       "</table>\n",
       "</div>"
      ],
      "text/plain": [
       "    count  percentage\n",
       "f2      1        0.01\n",
       "f6    146        0.97"
      ]
     },
     "execution_count": 19,
     "metadata": {},
     "output_type": "execute_result"
    }
   ],
   "source": [
    "# Summation of the missing values and calculation of the missing values as a percentage in known dataset.\n",
    "missing_values = pd.DataFrame(known_dataset.isnull().sum(),columns=['count'])\n",
    "missing_values['percentage'] = (missing_values['count']/known_dataset.shape[0]*100).round(2)\n",
    "missing_values.query('count != 0')"
   ]
  },
  {
   "cell_type": "code",
   "execution_count": 20,
   "metadata": {},
   "outputs": [
    {
     "data": {
      "text/plain": [
       "<AxesSubplot:>"
      ]
     },
     "execution_count": 20,
     "metadata": {},
     "output_type": "execute_result"
    },
    {
     "data": {
      "image/png": "[encoded data removed]",
      "text/plain": [
       "<Figure size 1800x720 with 2 Axes>"
      ]
     },
     "metadata": {
      "needs_background": "light"
     },
     "output_type": "display_data"
    }
   ],
   "source": [
    "# The msno.matrix nullity matrix is a data-dense display which lets us quickly visually pick out patterns in data completion.\n",
    "# Check unknown.csv dataset.\n",
    "msno.matrix(unknown_dataset)"
   ]
  },
  {
   "cell_type": "code",
   "execution_count": 21,
   "metadata": {},
   "outputs": [
    {
     "data": {
      "text/plain": [
       "f6           9\n",
       "longitude    0\n",
       "latitude     0\n",
       "f1           0\n",
       "f2           0\n",
       "f3           0\n",
       "f4           0\n",
       "f5           0\n",
       "t1           0\n",
       "id           0\n",
       "dtype: int64"
      ]
     },
     "execution_count": 21,
     "metadata": {},
     "output_type": "execute_result"
    }
   ],
   "source": [
    "# Missing values\n",
    "unknown_dataset.isnull().sum().sort_values(ascending=False)"
   ]
  },
  {
   "cell_type": "code",
   "execution_count": 22,
   "metadata": {},
   "outputs": [
    {
     "data": {
      "text/html": [
       "<div>\n",
       "<style scoped>\n",
       "    .dataframe tbody tr th:only-of-type {\n",
       "        vertical-align: middle;\n",
       "    }\n",
       "\n",
       "    .dataframe tbody tr th {\n",
       "        vertical-align: top;\n",
       "    }\n",
       "\n",
       "    .dataframe thead th {\n",
       "        text-align: right;\n",
       "    }\n",
       "</style>\n",
       "<table border=\"1\" class=\"dataframe\">\n",
       "  <thead>\n",
       "    <tr style=\"text-align: right;\">\n",
       "      <th></th>\n",
       "      <th>count</th>\n",
       "      <th>percentage</th>\n",
       "    </tr>\n",
       "  </thead>\n",
       "  <tbody>\n",
       "    <tr>\n",
       "      <th>f6</th>\n",
       "      <td>9</td>\n",
       "      <td>1.17</td>\n",
       "    </tr>\n",
       "  </tbody>\n",
       "</table>\n",
       "</div>"
      ],
      "text/plain": [
       "    count  percentage\n",
       "f6      9        1.17"
      ]
     },
     "execution_count": 22,
     "metadata": {},
     "output_type": "execute_result"
    }
   ],
   "source": [
    "# Summation of the missing values and calculation of the missing values as a percentage in unknown dataset.\n",
    "missing_values = pd.DataFrame(unknown_dataset.isnull().sum(),columns=['count'])\n",
    "missing_values['percentage'] = (missing_values['count']/unknown_dataset.shape[0]*100).round(2)\n",
    "missing_values.query('count != 0')"
   ]
  },
  {
   "cell_type": "markdown",
   "metadata": {},
   "source": [
    "`So we decide to impute missing values with Mean/Median, because columns in the dataset which are having numeric continous values can be replaced with the mean, median, or mode of remaining values in the column. This method can prevent the loss of data. Replacing two approximations (mean, median) is a statistical approach to handle the missing values.`"
   ]
  },
  {
   "cell_type": "code",
   "execution_count": 23,
   "metadata": {},
   "outputs": [],
   "source": [
    "known_dataset['f6'] = known_dataset['f6'].replace(np.NaN, known_dataset['f6'].mean())"
   ]
  },
  {
   "cell_type": "code",
   "execution_count": 24,
   "metadata": {},
   "outputs": [],
   "source": [
    "known_dataset['f2'] = known_dataset['f2'].replace(np.NaN, known_dataset['f2'].mean())"
   ]
  },
  {
   "cell_type": "code",
   "execution_count": 25,
   "metadata": {},
   "outputs": [
    {
     "data": {
      "text/plain": [
       "longitude    0\n",
       "latitude     0\n",
       "f1           0\n",
       "f2           0\n",
       "f3           0\n",
       "f4           0\n",
       "f5           0\n",
       "f6           0\n",
       "t1           0\n",
       "id           0\n",
       "dtype: int64"
      ]
     },
     "execution_count": 25,
     "metadata": {},
     "output_type": "execute_result"
    }
   ],
   "source": [
    "# Check again for missing values in known.csv dataset.\n",
    "known_dataset.isnull().sum().sort_values(ascending=False)"
   ]
  },
  {
   "cell_type": "code",
   "execution_count": 26,
   "metadata": {},
   "outputs": [],
   "source": [
    "unknown_dataset['f6'] = unknown_dataset['f6'].replace(np.NaN, unknown_dataset['f6'].mean())"
   ]
  },
  {
   "cell_type": "code",
   "execution_count": 27,
   "metadata": {},
   "outputs": [
    {
     "data": {
      "text/plain": [
       "longitude    0\n",
       "latitude     0\n",
       "f1           0\n",
       "f2           0\n",
       "f3           0\n",
       "f4           0\n",
       "f5           0\n",
       "f6           0\n",
       "t1           0\n",
       "id           0\n",
       "dtype: int64"
      ]
     },
     "execution_count": 27,
     "metadata": {},
     "output_type": "execute_result"
    }
   ],
   "source": [
    "# Check again for missing values in unknown.csv dataset.\n",
    "unknown_dataset.isnull().sum().sort_values(ascending=False)"
   ]
  },
  {
   "cell_type": "markdown",
   "metadata": {},
   "source": [
    "## Export Cleaned Datasets"
   ]
  },
  {
   "cell_type": "code",
   "execution_count": 28,
   "metadata": {},
   "outputs": [],
   "source": [
    "# Save cleaned known dataset to a new .csv file\n",
    "path = 'data/cleaned_known.csv'\n",
    "known_dataset.to_csv(path, \n",
    "index=False) # Avoid creating an index in a saved .csv file."
   ]
  },
  {
   "cell_type": "code",
   "execution_count": 29,
   "metadata": {},
   "outputs": [],
   "source": [
    "# Save cleaned unknown dataset to a new .csv file\n",
    "path = 'data/cleaned_unknown.csv'\n",
    "unknown_dataset.to_csv(path, \n",
    "index=False) # Avoid creating an index in a saved .csv file."
   ]
  }
 ],
 "metadata": {
  "interpreter": {
   "hash": "79aec032834ca8c7adc23337e31b2f95bcd74aaeb73f4918421d2e03d3d0781b"
  },
  "kernelspec": {
   "display_name": "Python 3.8.5 64-bit ('.venv': venv)",
   "language": "python",
   "name": "python3"
  },
  "language_info": {
   "codemirror_mode": {
    "name": "ipython",
    "version": 3
   },
   "file_extension": ".py",
   "mimetype": "text/x-python",
   "name": "python",
   "nbconvert_exporter": "python",
   "pygments_lexer": "ipython3",
   "version": "3.8.5"
  }
 },
 "nbformat": 4,
 "nbformat_minor": 2
}
